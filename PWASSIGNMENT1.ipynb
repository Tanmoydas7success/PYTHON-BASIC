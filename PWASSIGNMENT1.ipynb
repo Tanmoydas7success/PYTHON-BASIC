{
  "nbformat": 4,
  "nbformat_minor": 0,
  "metadata": {
    "colab": {
      "provenance": []
    },
    "kernelspec": {
      "name": "python3",
      "display_name": "Python 3"
    },
    "language_info": {
      "name": "python"
    }
  },
  "cells": [
    {
      "cell_type": "code",
      "execution_count": null,
      "metadata": {
        "id": "DBqCRAHuu9Zg"
      },
      "outputs": [],
      "source": []
    },
    {
      "cell_type": "markdown",
      "source": [
        "#PYTHON BASIC QUESTION AND ANSWER\n"
      ],
      "metadata": {
        "id": "5x3ZoZSRvYcY"
      }
    },
    {
      "cell_type": "code",
      "source": [],
      "metadata": {
        "id": "-XNgU55CvhCU"
      },
      "execution_count": null,
      "outputs": []
    },
    {
      "cell_type": "markdown",
      "source": [
        "QUES 1. **What is Python, and why is it popular?**\n",
        "- Python is a high-level, versatile programming language. It is popular because of its beginners friendly syntax, versatility and wide range of applications. it helps us in solving problems and making codes.Python use both compiler and interpreter for debugging.\n",
        "\n",
        "QUES 2. **What is an interpreter in Python?**\n",
        "- Actually in python, an interpreter is a program that directly executes Python code without prior compilation into machine code. It translates the high-level Python code line by line into lower-level instructions that the computer can understand and execute.\n",
        "\n",
        "QUES 3. **What are pre-defined keywords in Python?**\n",
        "- 1.True 2. False 3.None 4.if 5.elif 6.else 7.while 8.for 9.is 10.is not 11.in 12.not in 13.break 14.try 15.catch 16.and 17.or 18.not 19. pass 20. return etc.\n",
        "\n",
        "QUES 4.**Can keywords be used as variable names?**\n",
        "- No, we can't use keywords as variable names and it will show error cause of built-in keywords.Python keywords are reserved words that have special meanings and are integral to the syntax and structure of the language.\n",
        "\n",
        "QUES 5.**What is mutability in Python?**\n",
        "- Mutability in python means we can change or edit the elements.\n",
        "for example: List is mutable, we can edit and change the elements of list.\n",
        "\n",
        "QUES 6.**Why are lists mutable, but tuples are immutable?**\n",
        "- Because list are written in square brackets[],and we can edit and change the elements in list.\n",
        "  But, Tuples are written in parenthesis(),and we cannot change or edit the elements in tuples.\n",
        "\n",
        "QUES 7.**What is the difference between “==” and “is” operators in Python?**\n",
        "- The\"==\" and \"is\" operators in Python are both used for comparison, but they serve different purposes. Like:\n",
        "\n",
        "  \"==\" This operator checks for value equality and it's called as equality operator.It determines if the values of two objects are the same.\n",
        "\n",
        "  \"is\" This operator checks for object identity and it's called as Identity operator.It determines if two variables refer to the exact same object in memory.\n",
        "  Both == and is operators in Python return a Boolean value (True or False) based on the comparison result.\n",
        "\n",
        "QUES 8.**What are logical operators in Python?**\n",
        "- logical operators are:\n",
        "  1.and:This operator gives True in output if both conditions are True.If even one operand is False,the entire expression evaluates to False.\n",
        "  2.or: This operator gives True in output when any one condition is True.The expression evaluates to False only if both operands are False.\n",
        "  3.not: not is used to reverse the output(True to False and vice versa).\n",
        "\n",
        "QUES 9. **What is type casting in Python?**\n",
        "- Type casting is used in python to identify or change the data type of any variables.In python there is no need to define the data type.Python can undersatnd itself.(for eg. a=7),In this there is no need to define that a is int type.\n",
        "\n",
        "QUES 10. **What is the difference between implicit and explicit type casting?**\n",
        "- 1.Implicit: in this type casting we don't need to define the data type first.Python can uderstand the data type by itself.\n",
        "\n",
        " 2.Explicit: in this case we have to convert data types using in built-in functions(str,int,float,bool).\n",
        "\n",
        "QUES 11. **What is the purpose of conditional statements in Python?**\n",
        "- Conditional are used in python for apply the condition based result. In this there are options.like:We can do something \"if\" we have some works. Conditional statements used to gives us one result which satisfied are choice.\n",
        "We have four conditional statements in Python: 1.if 2.if-else 3.if-elif-else 4.nested if-else.\n",
        "\n",
        "QUES 12. **How does the elif statement work?**\n",
        "- It is nothing but the joint form of else-if.In this 'elif' statement we can write many choices.This 'elif' is used in between if-else block.It's used in conditional statements to check for multiple conditions sequentially.If the first \"if\" condition is false,then the code checks the condition following \"elif\".\"elif\" statement works when the condition is satisfied or true and then the program came out of the block or it stops for further execution.\n",
        "\n",
        "QUES 13. **What is the difference between for and while loops?**\n",
        "- **for** :for loop is used to print the output again and again.In this there is no condition.This works from 0 to (n-1).we can't do any mathematical operations here. It used for iterating over a known sequence of items.\n",
        "- **while** :while is condition based loop.In this we gave a condition and when the condition is statisfied then it will stop execution or came out of the block.In this case we can perform mathematical operations and in this there are unknown iterations.\n",
        "\n",
        "QUES 14. **Describe a scenario where a while loop is more suitable than a for loop.**\n",
        "- If we know the number of iteration then we can use for loop but if the number of iterations are unknown or there are several user input then we use while loop.\n",
        "- example:if we want to take email id from user then we have to use while loop because we want valid email address and may be there can some number of inputs from user till valid credential has given, but in for loop we can not use for loop for unknown attempts.\n"
      ],
      "metadata": {
        "id": "1bfjd9wX1DJZ"
      }
    },
    {
      "cell_type": "code",
      "source": [
        "# PRACTICAL QUESTIONS AND ANSWER\n",
        "# QUES 1.Write a Python program to print \"Hello, World!\n",
        "print(\"Hello, World!\")\n"
      ],
      "metadata": {
        "colab": {
          "base_uri": "https://localhost:8080/"
        },
        "id": "5U5lIwh11oQV",
        "outputId": "ea19ba72-f9a3-4bb3-fda1-1f67dff587b7"
      },
      "execution_count": null,
      "outputs": [
        {
          "output_type": "stream",
          "name": "stdout",
          "text": [
            "Hello, World!\n"
          ]
        }
      ]
    },
    {
      "cell_type": "code",
      "source": [
        "#QUES 2. Write a Python program that displays your name and age.\n",
        "name=input(\"Enter your name: \")\n",
        "age=int(input(\"Enter your age: \"))\n",
        "print(f\"My name is {name} , and my age is {age}\")"
      ],
      "metadata": {
        "colab": {
          "base_uri": "https://localhost:8080/"
        },
        "id": "zjoMf01XOZPY",
        "outputId": "29c233d9-7327-42ac-93e0-b182f3a0f8ca"
      },
      "execution_count": null,
      "outputs": [
        {
          "output_type": "stream",
          "name": "stdout",
          "text": [
            "Enter your name: Tanmoy\n",
            "Enter your age: 29\n",
            "My name is Tanmoy , and my age is 29\n"
          ]
        }
      ]
    },
    {
      "cell_type": "code",
      "source": [
        "#QUES 3. Write code to print all the pre-defined keywords in Python using the keyword library?\n",
        "import keyword\n",
        "print(keyword.kwlist)"
      ],
      "metadata": {
        "colab": {
          "base_uri": "https://localhost:8080/"
        },
        "id": "TnJgUIxuQMgP",
        "outputId": "50e876ad-886b-4783-dae0-11aaec430ca7"
      },
      "execution_count": null,
      "outputs": [
        {
          "output_type": "stream",
          "name": "stdout",
          "text": [
            "['False', 'None', 'True', 'and', 'as', 'assert', 'async', 'await', 'break', 'class', 'continue', 'def', 'del', 'elif', 'else', 'except', 'finally', 'for', 'from', 'global', 'if', 'import', 'in', 'is', 'lambda', 'nonlocal', 'not', 'or', 'pass', 'raise', 'return', 'try', 'while', 'with', 'yield']\n"
          ]
        }
      ]
    },
    {
      "cell_type": "code",
      "source": [
        "#QUES 4. Write a program that checks if a given word is a Python keyword\n",
        "import keyword\n",
        "word = input(\"Enter a word: \")\n",
        "if keyword.iskeyword(word): # keyword.iskeyword is used to check keywords in python\n",
        "    print(f\"'{word}' is a Python keyword.\")\n",
        "else:\n",
        "    print(f\"'{word}' is NOT a Python keyword.\")"
      ],
      "metadata": {
        "colab": {
          "base_uri": "https://localhost:8080/"
        },
        "id": "Z2h8HPcLSAPQ",
        "outputId": "44c57aa0-6f61-48ba-98c8-87932fdf9a03"
      },
      "execution_count": null,
      "outputs": [
        {
          "output_type": "stream",
          "name": "stdout",
          "text": [
            "Enter a word: is\n",
            "'is' is a Python keyword.\n"
          ]
        }
      ]
    },
    {
      "cell_type": "code",
      "source": [
        "#QUES 5.Create a list and tuple in Python, and demonstrate how attempting to change an element works differently for each.\n",
        "my_list=[6,1,9,6]#list\n",
        "print(\"original list: \",my_list)\n",
        "my_list[2]=7 #changing an element in list\n",
        "print(\"list after changing an element :\",my_list)\n",
        "\n",
        "print()\n",
        "\n",
        "my_tuple=(2,4,3,6) #tuple\n",
        "print(\"original tuple: \",my_tuple)\n",
        "my_tuple[2]=5 #trying to change element in tuples\n",
        "print(\"Tuple after changing an element :\",my_tuple)"
      ],
      "metadata": {
        "colab": {
          "base_uri": "https://localhost:8080/",
          "height": 263
        },
        "id": "Y6QAUyHYWn1U",
        "outputId": "db89c819-a9f3-4f9d-91ff-30a3a278d80e"
      },
      "execution_count": null,
      "outputs": [
        {
          "output_type": "stream",
          "name": "stdout",
          "text": [
            "original list:  [6, 1, 9, 6]\n",
            "list after changing an element : [6, 1, 7, 6]\n",
            "\n",
            "original tuple:  (2, 4, 3, 6)\n"
          ]
        },
        {
          "output_type": "error",
          "ename": "TypeError",
          "evalue": "'tuple' object does not support item assignment",
          "traceback": [
            "\u001b[0;31m---------------------------------------------------------------------------\u001b[0m",
            "\u001b[0;31mTypeError\u001b[0m                                 Traceback (most recent call last)",
            "\u001b[0;32m/tmp/ipython-input-3825260860.py\u001b[0m in \u001b[0;36m<cell line: 0>\u001b[0;34m()\u001b[0m\n\u001b[1;32m      9\u001b[0m \u001b[0mmy_tuple\u001b[0m\u001b[0;34m=\u001b[0m\u001b[0;34m(\u001b[0m\u001b[0;36m2\u001b[0m\u001b[0;34m,\u001b[0m\u001b[0;36m4\u001b[0m\u001b[0;34m,\u001b[0m\u001b[0;36m3\u001b[0m\u001b[0;34m,\u001b[0m\u001b[0;36m6\u001b[0m\u001b[0;34m)\u001b[0m \u001b[0;31m#tuple\u001b[0m\u001b[0;34m\u001b[0m\u001b[0;34m\u001b[0m\u001b[0m\n\u001b[1;32m     10\u001b[0m \u001b[0mprint\u001b[0m\u001b[0;34m(\u001b[0m\u001b[0;34m\"original tuple: \"\u001b[0m\u001b[0;34m,\u001b[0m\u001b[0mmy_tuple\u001b[0m\u001b[0;34m)\u001b[0m\u001b[0;34m\u001b[0m\u001b[0;34m\u001b[0m\u001b[0m\n\u001b[0;32m---> 11\u001b[0;31m \u001b[0mmy_tuple\u001b[0m\u001b[0;34m[\u001b[0m\u001b[0;36m2\u001b[0m\u001b[0;34m]\u001b[0m\u001b[0;34m=\u001b[0m\u001b[0;36m5\u001b[0m \u001b[0;31m#trying to change element in tuples\u001b[0m\u001b[0;34m\u001b[0m\u001b[0;34m\u001b[0m\u001b[0m\n\u001b[0m\u001b[1;32m     12\u001b[0m \u001b[0mprint\u001b[0m\u001b[0;34m(\u001b[0m\u001b[0;34m\"Tuple after changing an element :\"\u001b[0m\u001b[0;34m,\u001b[0m\u001b[0mmy_tuple\u001b[0m\u001b[0;34m)\u001b[0m\u001b[0;34m\u001b[0m\u001b[0;34m\u001b[0m\u001b[0m\n",
            "\u001b[0;31mTypeError\u001b[0m: 'tuple' object does not support item assignment"
          ]
        }
      ]
    },
    {
      "cell_type": "code",
      "source": [
        "#QUES 6.Write a function to demonstrate the behavior of mutable and immutable arguments.\n",
        "def mutable():\n",
        "  my_lst=[6,1,9,6]#list\n",
        "  print(\"original list: \",my_lst)\n",
        "  #changing an element in list\n",
        "  my_lst[2]=7\n",
        "  print(\"list after changing an element :\",my_lst)\n",
        "def immutable():\n",
        "  my_tuple=(2,4,3,6,) #tuple\n",
        "  print(\"original tuple: \",my_tuple)\n",
        "  #changing an element in list\n",
        "  try:\n",
        "    my_tuple[2]=5\n",
        "    print(\"Tuple after changing an element :\",my_tuple)\n",
        "  except:\n",
        "    print(\"Tuple is Immutable\")\n",
        "\n",
        "mutable()\n",
        "immutable()\n",
        "\n",
        "# list: list is written in square brakects[],and we can also edit our list.List is mutable.\n",
        "# tuple: tuple is written in parantehsis(),we cannot edit a tuple.tuple is inmutable."
      ],
      "metadata": {
        "colab": {
          "base_uri": "https://localhost:8080/"
        },
        "id": "r78qwBO0Z8dA",
        "outputId": "16b2edca-cd87-4f43-8197-30f69ae13b28"
      },
      "execution_count": null,
      "outputs": [
        {
          "output_type": "stream",
          "name": "stdout",
          "text": [
            "original list:  [6, 1, 9, 6]\n",
            "list after changing an element : [6, 1, 7, 6]\n",
            "original tuple:  (2, 4, 3, 6)\n",
            "Tuple is Immutable\n"
          ]
        }
      ]
    },
    {
      "cell_type": "code",
      "source": [
        "#QUES 7. Write a program that performs basic arithmetic operations on two user-input numbers.\n",
        "a=int(input(\"enter first num \"))\n",
        "b=int(input(\"enter second num: \"))\n",
        "c=a+b #addition\n",
        "d=a-b #substraction\n",
        "e=a*b #multiplication\n",
        "f=a/b #division\n",
        "g=a//b #floor division\n",
        "h=a**b #to the power\n",
        "i=a%b  #modulus\n",
        "print(\"sum of no:\",c)\n",
        "print(\"subtraction of no:\",d)\n",
        "print(\"multiplication of no:\",e)\n",
        "print(\"division of no:\",f)\n",
        "print(\"floor division of no:\",g)\n",
        "print(\"power of no:\",h)\n",
        "print(\"reminder of no:\",i)"
      ],
      "metadata": {
        "colab": {
          "base_uri": "https://localhost:8080/"
        },
        "id": "hqIQSJcEbxae",
        "outputId": "55ad340c-5c67-427b-fe5f-e9e22c62e616"
      },
      "execution_count": null,
      "outputs": [
        {
          "output_type": "stream",
          "name": "stdout",
          "text": [
            "enter first num 10\n",
            "enter second num: 5\n",
            "sum of no: 15\n",
            "subtraction of no: 5\n",
            "multiplication of no: 50\n",
            "division of no: 2.0\n",
            "floor division of no: 2\n",
            "power of no: 100000\n",
            "reminder of no: 0\n"
          ]
        }
      ]
    },
    {
      "cell_type": "code",
      "source": [
        "#QUES 8. Write a program to demonstrate the use of logical operators.\n",
        "a=10\n",
        "b=5\n",
        "print(a>b and a!=b) # here both conditions are true\n",
        "print(a>b or a==b)  # here one of the condition is true\n",
        "print(not(a!=b))   #output will be opposite"
      ],
      "metadata": {
        "colab": {
          "base_uri": "https://localhost:8080/"
        },
        "id": "mofVViMQdMUp",
        "outputId": "714e5e1b-e0a5-47e7-e86c-c01d0e14f404"
      },
      "execution_count": null,
      "outputs": [
        {
          "output_type": "stream",
          "name": "stdout",
          "text": [
            "True\n",
            "True\n",
            "False\n"
          ]
        }
      ]
    },
    {
      "cell_type": "code",
      "source": [
        "#QUES 9. Write a Python program to convert user input from string to integer, float, and boolean types.\n",
        "user_input = input(\"Enter a value: \")\n",
        "print(\"User_input :\",user_input)\n",
        "if user_input.isdigit():\n",
        "  print(\"User input in integer:\",int(user_input)) #String to integer\n",
        "  print(\"User input in float:\",float(user_input)) #String to float\n",
        "  print(\"User input in boolean:\",bool(user_input)) #String to boolean\n",
        "else:\n",
        "  print(\"Invalid Input , Enter a digit\")"
      ],
      "metadata": {
        "colab": {
          "base_uri": "https://localhost:8080/"
        },
        "id": "stqJ1F7QhqP_",
        "outputId": "c39eea3b-7b62-4030-f82d-06e781dea69e"
      },
      "execution_count": null,
      "outputs": [
        {
          "output_type": "stream",
          "name": "stdout",
          "text": [
            "Enter a value: 7018\n",
            "User_input : 7018\n",
            "User input in integer: 7018\n",
            "User input in float: 7018.0\n",
            "User input in boolean: True\n"
          ]
        }
      ]
    },
    {
      "cell_type": "code",
      "source": [
        "#QUES 10.  Write code to demonstrate type casting with list elements.\n",
        "\n",
        "list1=[1,2.2,3.3,4.5,6.7,7] #list1 consist of float and integer\n",
        "list2=['1','2','3','4','5','6'] #list2 consist of string and integer\n",
        "def implicit(list1):\n",
        "  total_sum=sum(list1)\n",
        "  print(total_sum)\n",
        "\n",
        "def explicit(list2):\n",
        "  num=[int(i) for i in list2]\n",
        "  total_sum2=sum(num)\n",
        "  print(total_sum2)\n",
        "\n",
        "implicit(list1)\n",
        "explicit(list2)"
      ],
      "metadata": {
        "id": "xzr_COxpo2w4",
        "colab": {
          "base_uri": "https://localhost:8080/"
        },
        "outputId": "d93c2640-2a05-4c82-8425-024ea3a1e5f9"
      },
      "execution_count": 6,
      "outputs": [
        {
          "output_type": "stream",
          "name": "stdout",
          "text": [
            "24.7\n",
            "21\n"
          ]
        }
      ]
    },
    {
      "cell_type": "code",
      "source": [
        "#QUES 11.Write a program that checks if a number is positive, negative, or zero.\n",
        "number= float(input(\"enter your number:\"))\n",
        "if(number<0):\n",
        "   print(\"number is negative\")\n",
        "elif(number>0):\n",
        "    print(\"number  is postive\")\n",
        "else:\n",
        "    print(\"number is zero\")"
      ],
      "metadata": {
        "colab": {
          "base_uri": "https://localhost:8080/"
        },
        "id": "KNCbxdsmW6Eg",
        "outputId": "75b05ff9-8e54-4ee2-de21-9f38e1eeb51b"
      },
      "execution_count": 6,
      "outputs": [
        {
          "output_type": "stream",
          "name": "stdout",
          "text": [
            "enter your number:7.77\n",
            "number  is postive\n"
          ]
        }
      ]
    },
    {
      "cell_type": "code",
      "source": [
        "#QUES 12. Write a for loop to print numbers from 1 to 10.\n",
        "for i in range(1,11): #we know the last digit so to get all the numbere b/w 1 to 10 we consider the last value +1\n",
        "  print(i)"
      ],
      "metadata": {
        "colab": {
          "base_uri": "https://localhost:8080/"
        },
        "id": "65qDuEhPzUp3",
        "outputId": "58e1b5d3-edfe-40fc-821f-b6793f1fae6f"
      },
      "execution_count": 8,
      "outputs": [
        {
          "output_type": "stream",
          "name": "stdout",
          "text": [
            "1\n",
            "2\n",
            "3\n",
            "4\n",
            "5\n",
            "6\n",
            "7\n",
            "8\n",
            "9\n",
            "10\n"
          ]
        }
      ]
    },
    {
      "cell_type": "code",
      "source": [
        "#QUES 13. Write a Python program to find the sum of all even numbers between 1 and 50\n",
        "total_sum=0\n",
        "for i in range(1,51):\n",
        "  if(i%2==0):\n",
        "    total_sum =total_sum +i\n",
        "print(\"sum of all even numbers between 1 and 50  is:\",total_sum)"
      ],
      "metadata": {
        "colab": {
          "base_uri": "https://localhost:8080/"
        },
        "id": "L5HiA4e30G67",
        "outputId": "249c553f-2677-4327-c5a7-8a5167597eb4"
      },
      "execution_count": 12,
      "outputs": [
        {
          "output_type": "stream",
          "name": "stdout",
          "text": [
            "sum of all even numbers between 1 and 50  is: 650\n"
          ]
        }
      ]
    },
    {
      "cell_type": "code",
      "source": [
        "#QUES 14. Write a program to reverse a string using a while loop.\n",
        "original_string = input(\"Enter a string: \")\n",
        "reversed_string = \" \"\n",
        "index = len(original_string) - 1\n",
        "while index >= 0:\n",
        "    reversed_string += original_string[index]\n",
        "    index -=1\n",
        "print(\"Reversed string:\", reversed_string)"
      ],
      "metadata": {
        "colab": {
          "base_uri": "https://localhost:8080/"
        },
        "id": "kziFhygR1wPX",
        "outputId": "13d6b226-7303-4916-e179-80fcd8e5b30f"
      },
      "execution_count": 13,
      "outputs": [
        {
          "output_type": "stream",
          "name": "stdout",
          "text": [
            "Enter a string: TANMOY\n",
            "Reversed string:  YOMNAT\n"
          ]
        }
      ]
    },
    {
      "cell_type": "code",
      "source": [
        "#QUES 15. Write a Python program to calculate the factorial of a number provided by the user using a while loop.\n",
        "num=int(input(\"Enter any number :\"))\n",
        "i=2\n",
        "fact=1\n",
        "while i<=num:\n",
        "  fact=fact*i\n",
        "  i+=1\n",
        "print(f\"factorial of {num} is: {fact}\")"
      ],
      "metadata": {
        "colab": {
          "base_uri": "https://localhost:8080/"
        },
        "id": "WR4PX9l-2NE3",
        "outputId": "8203b987-de2f-4494-d0ab-bf7f180b8b21"
      },
      "execution_count": 20,
      "outputs": [
        {
          "output_type": "stream",
          "name": "stdout",
          "text": [
            "Enter any number :7\n",
            "factorial of 7 is: 5040\n"
          ]
        }
      ]
    }
  ]
}